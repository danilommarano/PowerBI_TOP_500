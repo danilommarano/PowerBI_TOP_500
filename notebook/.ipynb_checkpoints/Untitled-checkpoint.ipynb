{
 "cells": [
  {
   "cell_type": "code",
   "execution_count": 13,
   "metadata": {
    "scrolled": true
   },
   "outputs": [
    {
     "name": "stdout",
     "output_type": "stream",
     "text": [
      "# File sizes\n",
      "2003                          0.51MB (2 files)\n",
      "2019                          0.58MB (2 files)\n",
      "2013                          0.51MB (2 files)\n",
      "1996                          0.47MB (2 files)\n",
      "1993                          0.47MB (2 files)\n",
      "2000                          0.48MB (2 files)\n",
      "2006                          0.55MB (2 files)\n",
      "2002                          0.50MB (2 files)\n",
      "2016                          0.53MB (2 files)\n",
      "1994                          0.48MB (2 files)\n",
      "2007                          0.56MB (2 files)\n",
      "2010                          0.43MB (2 files)\n",
      "2009                          0.58MB (2 files)\n",
      "2017                          0.59MB (2 files)\n",
      "2014                          0.51MB (2 files)\n",
      "2001                          0.49MB (2 files)\n",
      "2018                          0.59MB (2 files)\n",
      "2020                          0.11MB (1 files)\n",
      "2015                          0.52MB (2 files)\n",
      "1995                          0.47MB (2 files)\n",
      "2004                          0.53MB (2 files)\n",
      "2008                          0.57MB (2 files)\n",
      "2005                          0.54MB (2 files)\n",
      "1999                          0.48MB (2 files)\n",
      "1998                          0.48MB (2 files)\n",
      "2012                          0.51MB (2 files)\n",
      "2011                          0.47MB (2 files)\n",
      "1997                          0.48MB (2 files)\n"
     ]
    }
   ],
   "source": [
    "import numpy as np\n",
    "import pandas as pd\n",
    "import matplotlib.pyplot as plt\n",
    "import seaborn as sns\n",
    "import os\n",
    "\n",
    "print('# File sizes')\n",
    "for f in os.listdir('../input'):\n",
    "    if not os.path.isdir('../input/' + f):\n",
    "        print(f.ljust(30) + str(round(os.path.getsize('../input/' + f) / 1000000, 2)) + 'MB')\n",
    "    else:\n",
    "        sizes = [os.path.getsize('../input/'+f+'/'+x)/1000000 for x in os.listdir('../input/' + f)]\n",
    "        print(f.ljust(30) + '%.2f' % round(sum(sizes), 2) + 'MB' + ' ({} files)'.format(len(sizes))) "
   ]
  },
  {
   "cell_type": "code",
   "execution_count": 3,
   "metadata": {},
   "outputs": [
    {
     "ename": "AttributeError",
     "evalue": "module 'pandas' has no attribute 'read_xml'",
     "output_type": "error",
     "traceback": [
      "\u001b[0;31m---------------------------------------------------------------------------\u001b[0m",
      "\u001b[0;31mAttributeError\u001b[0m                            Traceback (most recent call last)",
      "\u001b[0;32m<ipython-input-3-2f486bbd934d>\u001b[0m in \u001b[0;36m<module>\u001b[0;34m\u001b[0m\n\u001b[0;32m----> 1\u001b[0;31m \u001b[0mdf\u001b[0m \u001b[0;34m=\u001b[0m \u001b[0mpd\u001b[0m\u001b[0;34m.\u001b[0m\u001b[0mread_xml\u001b[0m\u001b[0;34m(\u001b[0m\u001b[0;34m'../input/TOP500_202006_all.xml'\u001b[0m\u001b[0;34m)\u001b[0m\u001b[0;34m\u001b[0m\u001b[0;34m\u001b[0m\u001b[0m\n\u001b[0m",
      "\u001b[0;32m~/data/lib/python3.8/site-packages/pandas/__init__.py\u001b[0m in \u001b[0;36m__getattr__\u001b[0;34m(name)\u001b[0m\n\u001b[1;32m    256\u001b[0m             \u001b[0;32mreturn\u001b[0m \u001b[0m_SparseArray\u001b[0m\u001b[0;34m\u001b[0m\u001b[0;34m\u001b[0m\u001b[0m\n\u001b[1;32m    257\u001b[0m \u001b[0;34m\u001b[0m\u001b[0m\n\u001b[0;32m--> 258\u001b[0;31m         \u001b[0;32mraise\u001b[0m \u001b[0mAttributeError\u001b[0m\u001b[0;34m(\u001b[0m\u001b[0;34mf\"module 'pandas' has no attribute '{name}'\"\u001b[0m\u001b[0;34m)\u001b[0m\u001b[0;34m\u001b[0m\u001b[0;34m\u001b[0m\u001b[0m\n\u001b[0m\u001b[1;32m    259\u001b[0m \u001b[0;34m\u001b[0m\u001b[0m\n\u001b[1;32m    260\u001b[0m \u001b[0;34m\u001b[0m\u001b[0m\n",
      "\u001b[0;31mAttributeError\u001b[0m: module 'pandas' has no attribute 'read_xml'"
     ]
    }
   ],
   "source": [
    "df = pd.read_xml('../input/TOP500_202006_all.xml')"
   ]
  }
 ],
 "metadata": {
  "kernelspec": {
   "display_name": "Python 3",
   "language": "python",
   "name": "python3"
  },
  "language_info": {
   "codemirror_mode": {
    "name": "ipython",
    "version": 3
   },
   "file_extension": ".py",
   "mimetype": "text/x-python",
   "name": "python",
   "nbconvert_exporter": "python",
   "pygments_lexer": "ipython3",
   "version": "3.8.2"
  }
 },
 "nbformat": 4,
 "nbformat_minor": 4
}
